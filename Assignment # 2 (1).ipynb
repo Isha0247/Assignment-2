{
 "cells": [
  {
   "cell_type": "markdown",
   "id": "7b206a00",
   "metadata": {},
   "source": [
    "# Chapter 7:Reading files(file is not mentioned thats why program not run)"
   ]
  },
  {
   "cell_type": "code",
   "execution_count": null,
   "id": "56392e25",
   "metadata": {},
   "outputs": [],
   "source": [
    "fhand = open('file-name.txt')\n",
    "print(fhand)\n",
    "\n",
    "f = open(\"file-name.txt\", \"r\")\n",
    "print(f.read())"
   ]
  },
  {
   "cell_type": "code",
   "execution_count": 1,
   "id": "cbd59f86",
   "metadata": {},
   "outputs": [
    {
     "name": "stdout",
     "output_type": "stream",
     "text": [
      "Hello\n",
      "World!\n"
     ]
    }
   ],
   "source": [
    "#new line\n",
    "stuff = 'Hello\\nWorld!'\n",
    "print(stuff)"
   ]
  },
  {
   "cell_type": "code",
   "execution_count": null,
   "id": "04de00f8",
   "metadata": {},
   "outputs": [],
   "source": [
    "#counting lines in files\n",
    "fhand = open('file-name.txt')\n",
    "count = 0\n",
    "for line in fhand:\n",
    "count = count + 1\n",
    "print('Line Count:', count)"
   ]
  },
  {
   "cell_type": "code",
   "execution_count": null,
   "id": "10601888",
   "metadata": {},
   "outputs": [],
   "source": [
    "# file handle sequance\n",
    "xfile = open('file-name.txt')\n",
    "for cheese in xfile:\n",
    "print(cheese)"
   ]
  },
  {
   "cell_type": "code",
   "execution_count": null,
   "id": "82ae8699",
   "metadata": {},
   "outputs": [],
   "source": [
    "#reading a whole file\n",
    " fhand = open('file-name.txt')\n",
    " inp = fhand.read()\n",
    " print(len(inp))"
   ]
  },
  {
   "cell_type": "code",
   "execution_count": null,
   "id": "8614f6d2",
   "metadata": {},
   "outputs": [],
   "source": [
    "#searching through a file\n",
    "fhand = open('file name.txt')\n",
    "for line in fhand:\n",
    "line = line.rstrip()\n",
    "if line.startswith('From:') :\n",
    "print(line)"
   ]
  },
  {
   "cell_type": "code",
   "execution_count": null,
   "id": "c5b4d8ff",
   "metadata": {},
   "outputs": [],
   "source": [
    "#skipping with continue\n",
    "fhand = open('file name.txt')\n",
    "for line in fhand:\n",
    "line = line.rstrip()\n",
    "if not line.startswith('From:') :\n",
    "continue\n",
    "print(line)"
   ]
  },
  {
   "cell_type": "markdown",
   "id": "a19f9446",
   "metadata": {},
   "source": [
    "# Chapter 8: Lists"
   ]
  },
  {
   "cell_type": "code",
   "execution_count": 2,
   "id": "5a110ba3",
   "metadata": {},
   "outputs": [
    {
     "name": "stdout",
     "output_type": "stream",
     "text": [
      "5\n",
      "4\n",
      "3\n",
      "2\n",
      "1\n",
      "Blastoff!\n"
     ]
    }
   ],
   "source": [
    "#list\n",
    "for i in [5, 4, 3, 2, 1] :\n",
    " print(i)\n",
    "print('Blastoff!')"
   ]
  },
  {
   "cell_type": "code",
   "execution_count": 3,
   "id": "28a9d111",
   "metadata": {},
   "outputs": [
    {
     "name": "stdout",
     "output_type": "stream",
     "text": [
      "Happy New Year: Joseph\n",
      "Happy New Year: Glenn\n",
      "Happy New Year: Sally\n",
      "Done!\n"
     ]
    }
   ],
   "source": [
    "friends = ['Joseph', 'Glenn', 'Sally']\n",
    "for friend in friends :\n",
    " print('Happy New Year:', friend)\n",
    "print('Done!')"
   ]
  },
  {
   "cell_type": "code",
   "execution_count": 4,
   "id": "61341f7e",
   "metadata": {},
   "outputs": [
    {
     "name": "stdout",
     "output_type": "stream",
     "text": [
      "9\n"
     ]
    }
   ],
   "source": [
    "#length of list\n",
    "greet = 'Hello Bob'\n",
    "print(len(greet))"
   ]
  },
  {
   "cell_type": "code",
   "execution_count": 5,
   "id": "68ca6701",
   "metadata": {},
   "outputs": [
    {
     "name": "stdout",
     "output_type": "stream",
     "text": [
      "4\n"
     ]
    }
   ],
   "source": [
    "#length of list\n",
    "x = [ 1, 2, 'joe', 99]\n",
    "print(len(x))"
   ]
  },
  {
   "cell_type": "code",
   "execution_count": 6,
   "id": "9685bc72",
   "metadata": {},
   "outputs": [
    {
     "name": "stdout",
     "output_type": "stream",
     "text": [
      "range(0, 4)\n",
      "3\n"
     ]
    }
   ],
   "source": [
    "#range of list \n",
    "print(range(4))\n",
    "[0, 1, 2, 3]\n",
    "friends = ['Joseph', 'Glenn', 'Sally']\n",
    "print(len(friends))"
   ]
  },
  {
   "cell_type": "code",
   "execution_count": 9,
   "id": "b9ca9387",
   "metadata": {},
   "outputs": [
    {
     "name": "stdout",
     "output_type": "stream",
     "text": [
      "Happy New Year: Joseph\n",
      "Happy New Year: Glenn\n",
      "Happy New Year: Sally\n",
      "Happy New Year: Joseph\n",
      "Happy New Year: Glenn\n",
      "Happy New Year: Sally\n"
     ]
    }
   ],
   "source": [
    "#tale of two loops \n",
    "friends = ['Joseph', 'Glenn', 'Sally']\n",
    "for friend in friends :\n",
    " print('Happy New Year:', friend)\n",
    "for i in range(len(friends)) :\n",
    " friend = friends[i]\n",
    " print('Happy New Year:', friend)"
   ]
  },
  {
   "cell_type": "code",
   "execution_count": 11,
   "id": "eb6a4d03",
   "metadata": {},
   "outputs": [
    {
     "name": "stdout",
     "output_type": "stream",
     "text": [
      "[1, 2, 3, 4, 5, 6]\n"
     ]
    }
   ],
   "source": [
    "#concatenating the list by using + \n",
    "a = [1, 2, 3]\n",
    "b = [4, 5, 6]\n",
    "c = a + b\n",
    "print(c)"
   ]
  },
  {
   "cell_type": "code",
   "execution_count": 12,
   "id": "37701866",
   "metadata": {},
   "outputs": [
    {
     "data": {
      "text/plain": [
       "[41, 12]"
      ]
     },
     "execution_count": 12,
     "metadata": {},
     "output_type": "execute_result"
    }
   ],
   "source": [
    "#slicing a list\n",
    "t = [9, 41, 12, 3, 74, 15]\n",
    "t[1:3]"
   ]
  },
  {
   "cell_type": "code",
   "execution_count": 13,
   "id": "a042f10e",
   "metadata": {},
   "outputs": [
    {
     "data": {
      "text/plain": [
       "[9, 41, 12, 3]"
      ]
     },
     "execution_count": 13,
     "metadata": {},
     "output_type": "execute_result"
    }
   ],
   "source": [
    "t = [9, 41, 12, 3, 74, 15]\n",
    "t[:4]"
   ]
  },
  {
   "cell_type": "code",
   "execution_count": 14,
   "id": "871804e2",
   "metadata": {},
   "outputs": [
    {
     "data": {
      "text/plain": [
       "[3, 74, 15]"
      ]
     },
     "execution_count": 14,
     "metadata": {},
     "output_type": "execute_result"
    }
   ],
   "source": [
    "t = [9, 41, 12, 3, 74, 15]\n",
    "t[3:]"
   ]
  },
  {
   "cell_type": "code",
   "execution_count": 15,
   "id": "b4cc12a4",
   "metadata": {},
   "outputs": [
    {
     "data": {
      "text/plain": [
       "[9, 41, 12, 3, 74, 15]"
      ]
     },
     "execution_count": 15,
     "metadata": {},
     "output_type": "execute_result"
    }
   ],
   "source": [
    "t = [9, 41, 12, 3, 74, 15]\n",
    "t[:]"
   ]
  },
  {
   "cell_type": "code",
   "execution_count": 17,
   "id": "e9daba09",
   "metadata": {},
   "outputs": [
    {
     "name": "stdout",
     "output_type": "stream",
     "text": [
      "6\n",
      "74\n"
     ]
    }
   ],
   "source": [
    "nums = [3, 41, 12, 9, 74, 15]\n",
    "print(len(nums))\n",
    "print(max(nums))\n"
   ]
  },
  {
   "cell_type": "code",
   "execution_count": 18,
   "id": "90f6ca89",
   "metadata": {},
   "outputs": [
    {
     "name": "stdout",
     "output_type": "stream",
     "text": [
      "3\n"
     ]
    }
   ],
   "source": [
    "nums = [3, 41, 12, 9, 74, 15]\n",
    "print(min(nums))"
   ]
  },
  {
   "cell_type": "code",
   "execution_count": 19,
   "id": "8e192428",
   "metadata": {},
   "outputs": [
    {
     "name": "stdout",
     "output_type": "stream",
     "text": [
      "154\n"
     ]
    }
   ],
   "source": [
    "nums = [3, 41, 12, 9, 74, 15]\n",
    "print(sum(nums))"
   ]
  },
  {
   "cell_type": "code",
   "execution_count": 21,
   "id": "ee5112fa",
   "metadata": {},
   "outputs": [
    {
     "name": "stdout",
     "output_type": "stream",
     "text": [
      "25.666666666666668\n"
     ]
    }
   ],
   "source": [
    "nums = [3, 41, 12, 9, 74, 15]\n",
    "print(sum(nums)/len(nums))"
   ]
  },
  {
   "cell_type": "code",
   "execution_count": 23,
   "id": "2acdab78",
   "metadata": {},
   "outputs": [
    {
     "name": "stdout",
     "output_type": "stream",
     "text": [
      "['With', 'three', 'words']\n"
     ]
    }
   ],
   "source": [
    "#string with list\n",
    "abc = 'With three words'\n",
    "stuff = abc.split()\n",
    "print(stuff)"
   ]
  },
  {
   "cell_type": "markdown",
   "id": "fc10fd34",
   "metadata": {},
   "source": [
    "# Chapter 9:Dictionaries"
   ]
  },
  {
   "cell_type": "code",
   "execution_count": 32,
   "id": "8390c469",
   "metadata": {},
   "outputs": [
    {
     "name": "stdout",
     "output_type": "stream",
     "text": [
      "{'money': 12, 'candy': 3, 'tissues': 75}\n"
     ]
    }
   ],
   "source": [
    "#dictionaries \n",
    "purse = dict()\n",
    "purse['money'] = 12\n",
    "purse['candy'] = 3\n",
    "purse['tissues'] = 75\n",
    "print(purse)"
   ]
  },
  {
   "cell_type": "code",
   "execution_count": 24,
   "id": "fe66f408",
   "metadata": {},
   "outputs": [
    {
     "name": "stdout",
     "output_type": "stream",
     "text": [
      "{'chuck': 1, 'fred': 42, 'jan': 100}\n"
     ]
    }
   ],
   "source": [
    "#Dictionary Literals\n",
    "jjj = { 'chuck' : 1 , 'fred' : 42, 'jan': 100}\n",
    "print(jjj)"
   ]
  },
  {
   "cell_type": "code",
   "execution_count": null,
   "id": "0f472e56",
   "metadata": {},
   "outputs": [],
   "source": [
    "#loops and dictionaries \n",
    "if name in counts:\n",
    "x = counts[name]\n",
    "else :\n",
    "x = 0\n",
    "x = counts.get(name, 0)"
   ]
  },
  {
   "cell_type": "markdown",
   "id": "1999c2b0",
   "metadata": {},
   "source": [
    "# Chapter 10:Tuples"
   ]
  },
  {
   "cell_type": "code",
   "execution_count": 33,
   "id": "bdedb374",
   "metadata": {},
   "outputs": [
    {
     "name": "stdout",
     "output_type": "stream",
     "text": [
      "Joseph\n"
     ]
    }
   ],
   "source": [
    "#tuples\n",
    "x = ('Glenn', 'Sally', 'Joseph')\n",
    "print(x[2])"
   ]
  },
  {
   "cell_type": "code",
   "execution_count": 35,
   "id": "c3d3d5ba",
   "metadata": {},
   "outputs": [
    {
     "name": "stdout",
     "output_type": "stream",
     "text": [
      "csev 2\n",
      "cwen 4\n"
     ]
    }
   ],
   "source": [
    "# Tuples and dictionaries\n",
    "d = dict()\n",
    "d['csev'] = 2\n",
    "d['cwen'] = 4\n",
    "for (k,v) in d.items():\n",
    " print(k, v)"
   ]
  },
  {
   "cell_type": "code",
   "execution_count": 37,
   "id": "ef8df003",
   "metadata": {},
   "outputs": [
    {
     "data": {
      "text/plain": [
       "[('a', 10), ('b', 1), ('c', 22)]"
      ]
     },
     "execution_count": 37,
     "metadata": {},
     "output_type": "execute_result"
    }
   ],
   "source": [
    "#sorting a tuple\n",
    "d = {'a':10, 'b':1, 'c':22}\n",
    "d.items()\n",
    "sorted(d.items())"
   ]
  },
  {
   "cell_type": "code",
   "execution_count": 40,
   "id": "74a33b75",
   "metadata": {},
   "outputs": [
    {
     "name": "stdout",
     "output_type": "stream",
     "text": [
      "[(22, 'c'), (10, 'a'), (1, 'b')]\n"
     ]
    }
   ],
   "source": [
    "#Sort by Values Instead of Key\n",
    "c = {'a':10, 'b':1, 'c':22}\n",
    "tmp = list()\n",
    "for k, v in c.items() :\n",
    " tmp.append( (v, k) )\n",
    "tmp = sorted(tmp, reverse=True)\n",
    "print(tmp)"
   ]
  }
 ],
 "metadata": {
  "kernelspec": {
   "display_name": "Python 3 (ipykernel)",
   "language": "python",
   "name": "python3"
  },
  "language_info": {
   "codemirror_mode": {
    "name": "ipython",
    "version": 3
   },
   "file_extension": ".py",
   "mimetype": "text/x-python",
   "name": "python",
   "nbconvert_exporter": "python",
   "pygments_lexer": "ipython3",
   "version": "3.11.4"
  }
 },
 "nbformat": 4,
 "nbformat_minor": 5
}
